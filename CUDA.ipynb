{
  "nbformat": 4,
  "nbformat_minor": 0,
  "metadata": {
    "colab": {
      "provenance": []
    },
    "kernelspec": {
      "name": "python3",
      "display_name": "Python 3"
    },
    "language_info": {
      "name": "python"
    }
  },
  "cells": [
    {
      "cell_type": "code",
      "execution_count": 2,
      "metadata": {
        "colab": {
          "base_uri": "https://localhost:8080/",
          "height": 0
        },
        "id": "wsWB_J4_9lal",
        "outputId": "f2101f36-cbc4-43ad-8efe-03b96faf7566"
      },
      "outputs": [
        {
          "output_type": "stream",
          "name": "stdout",
          "text": [
            "nvcc: NVIDIA (R) Cuda compiler driver\n",
            "Copyright (c) 2005-2022 NVIDIA Corporation\n",
            "Built on Wed_Sep_21_10:33:58_PDT_2022\n",
            "Cuda compilation tools, release 11.8, V11.8.89\n",
            "Build cuda_11.8.r11.8/compiler.31833905_0\n"
          ]
        }
      ],
      "source": [
        "!nvcc --version"
      ]
    },
    {
      "cell_type": "code",
      "source": [
        "!pip install git+https://github.com/andreinechaev/nvcc4jupyter.git\n",
        "%load_ext nvcc_plugin"
      ],
      "metadata": {
        "colab": {
          "base_uri": "https://localhost:8080/",
          "height": 0
        },
        "id": "8AqvOgYK9sva",
        "outputId": "609b44ad-e797-4808-87eb-27bb5e117ea7"
      },
      "execution_count": 3,
      "outputs": [
        {
          "output_type": "stream",
          "name": "stdout",
          "text": [
            "Collecting git+https://github.com/andreinechaev/nvcc4jupyter.git\n",
            "  Cloning https://github.com/andreinechaev/nvcc4jupyter.git to /tmp/pip-req-build-xfsbi6z1\n",
            "  Running command git clone --filter=blob:none --quiet https://github.com/andreinechaev/nvcc4jupyter.git /tmp/pip-req-build-xfsbi6z1\n",
            "  Resolved https://github.com/andreinechaev/nvcc4jupyter.git to commit 0a71d56e5dce3ff1f0dd2c47c29367629262f527\n",
            "  Preparing metadata (setup.py) ... \u001b[?25l\u001b[?25hdone\n",
            "Building wheels for collected packages: NVCCPlugin\n",
            "  Building wheel for NVCCPlugin (setup.py) ... \u001b[?25l\u001b[?25hdone\n",
            "  Created wheel for NVCCPlugin: filename=NVCCPlugin-0.0.2-py3-none-any.whl size=4293 sha256=1713f5a051d439cf53d1d4a125c31d3f4ec4db56a3c124b61cf129aaaf3ede11\n",
            "  Stored in directory: /tmp/pip-ephem-wheel-cache-9aei5w7p/wheels/a8/b9/18/23f8ef71ceb0f63297dd1903aedd067e6243a68ea756d6feea\n",
            "Successfully built NVCCPlugin\n",
            "Installing collected packages: NVCCPlugin\n",
            "Successfully installed NVCCPlugin-0.0.2\n",
            "created output directory at /content/src\n",
            "Out bin /content/result.out\n"
          ]
        }
      ]
    },
    {
      "cell_type": "code",
      "source": [
        "%%cuda --name testGoogleColab.cu"
      ],
      "metadata": {
        "colab": {
          "base_uri": "https://localhost:8080/",
          "height": 35
        },
        "id": "Wvs3qt-J9wkF",
        "outputId": "a5436067-8ac9-412b-8a10-802ec50ea795"
      },
      "execution_count": 4,
      "outputs": [
        {
          "output_type": "execute_result",
          "data": {
            "text/plain": [
              "'File written in /content/src/testGoogleColab.cu'"
            ],
            "application/vnd.google.colaboratory.intrinsic+json": {
              "type": "string"
            }
          },
          "metadata": {},
          "execution_count": 4
        }
      ]
    },
    {
      "cell_type": "code",
      "source": [
        "!pip install pycuda"
      ],
      "metadata": {
        "colab": {
          "base_uri": "https://localhost:8080/",
          "height": 0
        },
        "id": "CxMQSuyO91OX",
        "outputId": "bd546685-b745-4c95-c0b8-da6e03ee3d33"
      },
      "execution_count": 5,
      "outputs": [
        {
          "output_type": "stream",
          "name": "stdout",
          "text": [
            "Collecting pycuda\n",
            "  Downloading pycuda-2023.1.tar.gz (1.7 MB)\n",
            "\u001b[2K     \u001b[90m━━━━━━━━━━━━━━━━━━━━━━━━━━━━━━━━━━━━━━━━\u001b[0m \u001b[32m1.7/1.7 MB\u001b[0m \u001b[31m10.0 MB/s\u001b[0m eta \u001b[36m0:00:00\u001b[0m\n",
            "\u001b[?25h  Installing build dependencies ... \u001b[?25l\u001b[?25hdone\n",
            "  Getting requirements to build wheel ... \u001b[?25l\u001b[?25hdone\n",
            "  Preparing metadata (pyproject.toml) ... \u001b[?25l\u001b[?25hdone\n",
            "Collecting pytools>=2011.2 (from pycuda)\n",
            "  Downloading pytools-2023.1.1-py2.py3-none-any.whl (70 kB)\n",
            "\u001b[2K     \u001b[90m━━━━━━━━━━━━━━━━━━━━━━━━━━━━━━━━━━━━━━━━\u001b[0m \u001b[32m70.6/70.6 kB\u001b[0m \u001b[31m8.8 MB/s\u001b[0m eta \u001b[36m0:00:00\u001b[0m\n",
            "\u001b[?25hRequirement already satisfied: appdirs>=1.4.0 in /usr/local/lib/python3.10/dist-packages (from pycuda) (1.4.4)\n",
            "Collecting mako (from pycuda)\n",
            "  Downloading Mako-1.3.0-py3-none-any.whl (78 kB)\n",
            "\u001b[2K     \u001b[90m━━━━━━━━━━━━━━━━━━━━━━━━━━━━━━━━━━━━━━━━\u001b[0m \u001b[32m78.6/78.6 kB\u001b[0m \u001b[31m11.9 MB/s\u001b[0m eta \u001b[36m0:00:00\u001b[0m\n",
            "\u001b[?25hRequirement already satisfied: platformdirs>=2.2.0 in /usr/local/lib/python3.10/dist-packages (from pytools>=2011.2->pycuda) (4.0.0)\n",
            "Requirement already satisfied: typing-extensions>=4.0 in /usr/local/lib/python3.10/dist-packages (from pytools>=2011.2->pycuda) (4.5.0)\n",
            "Requirement already satisfied: MarkupSafe>=0.9.2 in /usr/local/lib/python3.10/dist-packages (from mako->pycuda) (2.1.3)\n",
            "Building wheels for collected packages: pycuda\n",
            "  Building wheel for pycuda (pyproject.toml) ... \u001b[?25l\u001b[?25hdone\n",
            "  Created wheel for pycuda: filename=pycuda-2023.1-cp310-cp310-linux_x86_64.whl size=661263 sha256=6bd266202699b6f72e620079c068e721a332321a6ab39e9f8e42201be7a1b31e\n",
            "  Stored in directory: /root/.cache/pip/wheels/46/65/06/b997165edd2fd9690c3497ca54ea4485b571d7bd959c21c6c4\n",
            "Successfully built pycuda\n",
            "Installing collected packages: pytools, mako, pycuda\n",
            "Successfully installed mako-1.3.0 pycuda-2023.1 pytools-2023.1.1\n"
          ]
        }
      ]
    },
    {
      "cell_type": "code",
      "source": [
        "%%cu\n",
        "#include <stdio.h>\n",
        "#include <stdlib.h>\n",
        "#include <sys/time.h>\n",
        "#define vertices 2500\n",
        "#define THREADS_PER_BLOCK 8\n",
        "__global__ void floydWarshallGPU(int *dist,int k){\n",
        "    int i = (blockIdx.x*blockDim.x)+threadIdx.x;\n",
        "    int j = (blockIdx.y*blockDim.y)+threadIdx.y;\n",
        "    if(i<vertices&&j<vertices) {\n",
        "        int idx=i*vertices+j;\n",
        "        int idx1=k*vertices+j;\n",
        "        int idx2=i*vertices+k;\n",
        "        __syncthreads();\n",
        "        if(dist[idx]>dist[idx1]+dist[idx2]) {\n",
        "            dist[idx]=dist[idx1]+dist[idx2];\n",
        "        }\n",
        "        __syncthreads();\n",
        "    }\n",
        "}\n",
        "void floydWarshall(int adj_matrix[vertices][vertices]){\n",
        "    int *distances;\n",
        "    int *device_distances;\n",
        "    int *ans;\n",
        "    size_t bytes=vertices*vertices*sizeof(int);\n",
        "    distances=(int *)malloc(bytes);\n",
        "    ans=(int*)malloc(bytes);\n",
        "    cudaMalloc(&device_distances,bytes);\n",
        "    for(int i=0;i<vertices;i++){\n",
        "        for(int j=0;j<vertices;j++){\n",
        "            distances[i*vertices+j]=adj_matrix[i][j];\n",
        "        }\n",
        "    }\n",
        "    cudaMemcpy(device_distances, distances,bytes,cudaMemcpyHostToDevice);\n",
        "    dim3 block((vertices/THREADS_PER_BLOCK)+1,(vertices/THREADS_PER_BLOCK)+1,1);\n",
        "    dim3 threadsPerBlock(THREADS_PER_BLOCK,THREADS_PER_BLOCK,1);\n",
        "    for(int k=0;k<vertices;k++){\n",
        "        floydWarshallGPU<<<block,threadsPerBlock>>>(device_distances,k);\n",
        "    }\n",
        "    cudaDeviceSynchronize();\n",
        "    cudaMemcpy(ans,device_distances,bytes,cudaMemcpyDeviceToHost);\n",
        "}\n",
        "int main(int argc,char** argv){\n",
        "    struct timeval TimeValue_Start;\n",
        "    struct timezone TimeZone_Start;\n",
        "    struct timeval TimeValue_Final;\n",
        "    struct timezone TimeZone_Final;\n",
        "    long time_start,time_end;\n",
        "    double time_overhead;\n",
        "    static int adj_matrix[vertices][vertices];\n",
        "    for(int i=0;i<vertices;i++){\n",
        "        for(int j=0;j<vertices;j++){\n",
        "            if(i==j)\n",
        "                adj_matrix[i][j]=0;\n",
        "            else\n",
        "                adj_matrix[i][j]=rand()%10000;\n",
        "        }\n",
        "    }\n",
        "    gettimeofday(&TimeValue_Start,&TimeZone_Start);\n",
        "    floydWarshall(adj_matrix);\n",
        "    gettimeofday(&TimeValue_Final,&TimeZone_Final);\n",
        "    time_start=TimeValue_Start.tv_sec*1000000+TimeValue_Start.tv_usec;\n",
        "    time_end=TimeValue_Final.tv_sec*1000000+TimeValue_Final.tv_usec;\n",
        "    time_overhead=(time_end-time_start)/1000000.0;\n",
        "    printf(\"\\n\\n\\t\\t Time in Seconds (T) :%lf\\n\",time_overhead);\n",
        "    return 0;\n",
        "}"
      ],
      "metadata": {
        "colab": {
          "base_uri": "https://localhost:8080/",
          "height": 0
        },
        "id": "JhAQk6G094Gr",
        "outputId": "b1ad58af-1855-4922-b7cb-97faf5caeb72"
      },
      "execution_count": 6,
      "outputs": [
        {
          "output_type": "stream",
          "name": "stdout",
          "text": [
            "\n",
            "\n",
            "\t\t Time in Seconds (T) :0.021309\n",
            "\n"
          ]
        }
      ]
    },
    {
      "cell_type": "code",
      "source": [
        "%%cu\n",
        "#include <stdio.h>\n",
        "#include <stdlib.h>\n",
        "#include <sys/time.h>\n",
        "#define vertices 1250\n",
        "#define THREADS_PER_BLOCK 8\n",
        "__global__ void floydWarshallGPU(int *dist,int k){\n",
        "    int i = (blockIdx.x*blockDim.x)+threadIdx.x;\n",
        "    int j = (blockIdx.y*blockDim.y)+threadIdx.y;\n",
        "    if(i<vertices&&j<vertices) {\n",
        "        int idx=i*vertices+j;\n",
        "        int idx1=k*vertices+j;\n",
        "        int idx2=i*vertices+k;\n",
        "        __syncthreads();\n",
        "        if(dist[idx]>dist[idx1]+dist[idx2]) {\n",
        "            dist[idx]=dist[idx1]+dist[idx2];\n",
        "        }\n",
        "        __syncthreads();\n",
        "    }\n",
        "}\n",
        "void floydWarshall(int adj_matrix[vertices][vertices]){\n",
        "    int *distances;\n",
        "    int *device_distances;\n",
        "    int *ans;\n",
        "    size_t bytes=vertices*vertices*sizeof(int);\n",
        "    distances=(int *)malloc(bytes);\n",
        "    ans=(int*)malloc(bytes);\n",
        "    cudaMalloc(&device_distances,bytes);\n",
        "    for(int i=0;i<vertices;i++){\n",
        "        for(int j=0;j<vertices;j++){\n",
        "            distances[i*vertices+j]=adj_matrix[i][j];\n",
        "        }\n",
        "    }\n",
        "    cudaMemcpy(device_distances, distances,bytes,cudaMemcpyHostToDevice);\n",
        "    dim3 block((vertices/THREADS_PER_BLOCK)+1,(vertices/THREADS_PER_BLOCK)+1,1);\n",
        "    dim3 threadsPerBlock(THREADS_PER_BLOCK,THREADS_PER_BLOCK,1);\n",
        "    for(int k=0;k<vertices;k++){\n",
        "        floydWarshallGPU<<<block,threadsPerBlock>>>(device_distances,k);\n",
        "    }\n",
        "    cudaDeviceSynchronize();\n",
        "    cudaMemcpy(ans,device_distances,bytes,cudaMemcpyDeviceToHost);\n",
        "}\n",
        "int main(int argc,char** argv){\n",
        "    struct timeval TimeValue_Start;\n",
        "    struct timezone TimeZone_Start;\n",
        "    struct timeval TimeValue_Final;\n",
        "    struct timezone TimeZone_Final;\n",
        "    long time_start,time_end;\n",
        "    double time_overhead;\n",
        "    static int adj_matrix[vertices][vertices];\n",
        "    for(int i=0;i<vertices;i++){\n",
        "        for(int j=0;j<vertices;j++){\n",
        "            if(i==j)\n",
        "                adj_matrix[i][j]=0;\n",
        "            else\n",
        "                adj_matrix[i][j]=rand()%10000;\n",
        "        }\n",
        "    }P\n",
        "    gettimeofday(&TimeValue_Start,&TimeZone_Start);\n",
        "    floydWarshall(adj_matrix);\n",
        "    gettimeofday(&TimeValue_Final,&TimeZone_Final);\n",
        "    time_start=TimeValue_Start.tv_sec*1000000+TimeValue_Start.tv_usec;\n",
        "    time_end=TimeValue_Final.tv_sec*1000000+TimeValue_Final.tv_usec;\n",
        "    time_overhead=(time_end-time_start)/1000000.0;\n",
        "    printf(\"\\n\\n\\t\\t Time in Seconds (T) :%lf\\n\",time_overhead);\n",
        "    return 0;\n",
        "}"
      ],
      "metadata": {
        "id": "HV1Fshv4-eBI",
        "colab": {
          "base_uri": "https://localhost:8080/",
          "height": 0
        },
        "outputId": "262c0ea8-265f-4cd0-9551-3a10b454c97f"
      },
      "execution_count": 7,
      "outputs": [
        {
          "output_type": "stream",
          "name": "stdout",
          "text": [
            "\n",
            "\n",
            "\t\t Time in Seconds (T) :0.004328\n",
            "\n"
          ]
        }
      ]
    },
    {
      "cell_type": "code",
      "source": [],
      "metadata": {
        "id": "r-0OxCWvzfym"
      },
      "execution_count": null,
      "outputs": []
    }
  ]
}